{
  "nbformat": 4,
  "nbformat_minor": 0,
  "metadata": {
    "colab": {
      "provenance": [],
      "authorship_tag": "ABX9TyP2vNpueUfZOCy9YHd/AIIN",
      "include_colab_link": true
    },
    "kernelspec": {
      "name": "python3",
      "display_name": "Python 3"
    },
    "language_info": {
      "name": "python"
    }
  },
  "cells": [
    {
      "cell_type": "markdown",
      "metadata": {
        "id": "view-in-github",
        "colab_type": "text"
      },
      "source": [
        "<a href=\"https://colab.research.google.com/github/alixosravi/Dictionarise-in-Python-/blob/main/Dictionaries.ipynb\" target=\"_parent\"><img src=\"https://colab.research.google.com/assets/colab-badge.svg\" alt=\"Open In Colab\"/></a>"
      ]
    },
    {
      "cell_type": "code",
      "execution_count": null,
      "metadata": {
        "id": "otrlTQlthqxn"
      },
      "outputs": [],
      "source": [
        "my_dog = {'name': 'Nova', 'color': 'White', 'age': 4, 'friends': ['Soroush', 'Ali', 'Dlnia']}"
      ]
    },
    {
      "cell_type": "code",
      "source": [
        "my_dog[\"name\"] = \"Pixel\""
      ],
      "metadata": {
        "id": "NlKytTM4ipCK"
      },
      "execution_count": null,
      "outputs": []
    },
    {
      "cell_type": "code",
      "source": [
        "my_dog.keys()"
      ],
      "metadata": {
        "colab": {
          "base_uri": "https://localhost:8080/"
        },
        "id": "5RK8siiVjCRg",
        "outputId": "e8482c12-43e9-40fd-96ff-ebc0b2485473"
      },
      "execution_count": null,
      "outputs": [
        {
          "output_type": "execute_result",
          "data": {
            "text/plain": [
              "dict_keys(['name', 'color', 'age', 'friends'])"
            ]
          },
          "metadata": {},
          "execution_count": 3
        }
      ]
    },
    {
      "cell_type": "code",
      "source": [
        "for key in my_dog.keys():\n",
        "  print(key)\n",
        "                       "
      ],
      "metadata": {
        "colab": {
          "base_uri": "https://localhost:8080/"
        },
        "id": "Eb6accSVjQnH",
        "outputId": "b4893c25-19d1-47f0-8803-34866beef372"
      },
      "execution_count": null,
      "outputs": [
        {
          "output_type": "stream",
          "name": "stdout",
          "text": [
            "name\n",
            "color\n",
            "age\n",
            "friends\n"
          ]
        }
      ]
    },
    {
      "cell_type": "code",
      "source": [
        "key_list = list(my_dog.keys())\n",
        "key_list[-1]"
      ],
      "metadata": {
        "colab": {
          "base_uri": "https://localhost:8080/",
          "height": 35
        },
        "id": "FipGnWjgjhQR",
        "outputId": "c2ca6eea-b00a-49c1-bfdd-1fb3217378b1"
      },
      "execution_count": null,
      "outputs": [
        {
          "output_type": "execute_result",
          "data": {
            "text/plain": [
              "'friends'"
            ],
            "application/vnd.google.colaboratory.intrinsic+json": {
              "type": "string"
            }
          },
          "metadata": {},
          "execution_count": 5
        }
      ]
    },
    {
      "cell_type": "code",
      "source": [
        "my_dog.values()"
      ],
      "metadata": {
        "colab": {
          "base_uri": "https://localhost:8080/"
        },
        "id": "BAUYo8Wnj4N9",
        "outputId": "23aa01f5-5411-4ebe-f04f-48f27e10d682"
      },
      "execution_count": null,
      "outputs": [
        {
          "output_type": "execute_result",
          "data": {
            "text/plain": [
              "dict_values(['Pixel', 'White', 4, ['Soroush', 'Ali', 'Dlnia']])"
            ]
          },
          "metadata": {},
          "execution_count": 6
        }
      ]
    },
    {
      "cell_type": "code",
      "source": [
        "my_dog.items()"
      ],
      "metadata": {
        "colab": {
          "base_uri": "https://localhost:8080/"
        },
        "id": "WHUxSh8WkDp7",
        "outputId": "d59f5733-496e-43ac-da7d-118b12fec4f1"
      },
      "execution_count": null,
      "outputs": [
        {
          "output_type": "execute_result",
          "data": {
            "text/plain": [
              "dict_items([('name', 'Pixel'), ('color', 'White'), ('age', 4), ('friends', ['Soroush', 'Ali', 'Dlnia'])])"
            ]
          },
          "metadata": {},
          "execution_count": 7
        }
      ]
    },
    {
      "cell_type": "code",
      "source": [
        "list(my_dog.items())"
      ],
      "metadata": {
        "colab": {
          "base_uri": "https://localhost:8080/"
        },
        "id": "o0nQc3SPkRSL",
        "outputId": "d81e2576-0dba-42e2-a772-fbcaad2ed6c4"
      },
      "execution_count": null,
      "outputs": [
        {
          "output_type": "execute_result",
          "data": {
            "text/plain": [
              "[('name', 'Pixel'),\n",
              " ('color', 'White'),\n",
              " ('age', 4),\n",
              " ('friends', ['Soroush', 'Ali', 'Dlnia'])]"
            ]
          },
          "metadata": {},
          "execution_count": 8
        }
      ]
    },
    {
      "cell_type": "code",
      "source": [
        "for key, value in my_dog.items():\n",
        "  print(f\"{key} ---> {value}\")"
      ],
      "metadata": {
        "colab": {
          "base_uri": "https://localhost:8080/"
        },
        "id": "AUzkFGsrkcG7",
        "outputId": "30e066c2-b6a9-4ac7-c003-01a85aa29dea"
      },
      "execution_count": null,
      "outputs": [
        {
          "output_type": "stream",
          "name": "stdout",
          "text": [
            "name ---> Pixel\n",
            "color ---> White\n",
            "age ---> 4\n",
            "friends ---> ['Soroush', 'Ali', 'Dlnia']\n"
          ]
        }
      ]
    },
    {
      "cell_type": "code",
      "source": [
        "'name' in my_dog"
      ],
      "metadata": {
        "colab": {
          "base_uri": "https://localhost:8080/"
        },
        "id": "fY6083b5k5vZ",
        "outputId": "70bd7e4f-209d-4f7c-b1f0-f9d979978cab"
      },
      "execution_count": null,
      "outputs": [
        {
          "output_type": "execute_result",
          "data": {
            "text/plain": [
              "True"
            ]
          },
          "metadata": {},
          "execution_count": 10
        }
      ]
    },
    {
      "cell_type": "code",
      "source": [
        "'breed' in my_dog"
      ],
      "metadata": {
        "colab": {
          "base_uri": "https://localhost:8080/"
        },
        "id": "iy5XPNL7lJgJ",
        "outputId": "4bf9efb6-efe4-4db8-8b8e-bbb24afd3c52"
      },
      "execution_count": null,
      "outputs": [
        {
          "output_type": "execute_result",
          "data": {
            "text/plain": [
              "False"
            ]
          },
          "metadata": {},
          "execution_count": 11
        }
      ]
    },
    {
      "cell_type": "code",
      "source": [
        "if 'breed' in my_dog:\n",
        "  this_breed = my_dog[\"breed\"]\n",
        "else:\n",
        "  this_breed = None"
      ],
      "metadata": {
        "id": "BmcIA7iWlP_k"
      },
      "execution_count": null,
      "outputs": []
    },
    {
      "cell_type": "code",
      "source": [
        "this_breed = my_dog.get('breed', None) #equlas to if up."
      ],
      "metadata": {
        "id": "mK4yw9Golrsu"
      },
      "execution_count": null,
      "outputs": []
    },
    {
      "cell_type": "code",
      "source": [
        "if 'breed' not in my_dog:\n",
        "  my_dog['breed'] = 'Husky'"
      ],
      "metadata": {
        "id": "MdAuZ96xmFW6"
      },
      "execution_count": null,
      "outputs": []
    },
    {
      "cell_type": "code",
      "source": [
        "my_dog['breed']"
      ],
      "metadata": {
        "colab": {
          "base_uri": "https://localhost:8080/",
          "height": 35
        },
        "id": "hAEXfWM8ple8",
        "outputId": "cf157a1d-4f80-4837-8649-577a06dd7501"
      },
      "execution_count": null,
      "outputs": [
        {
          "output_type": "execute_result",
          "data": {
            "text/plain": [
              "'Husky'"
            ],
            "application/vnd.google.colaboratory.intrinsic+json": {
              "type": "string"
            }
          },
          "metadata": {},
          "execution_count": 15
        }
      ]
    },
    {
      "cell_type": "code",
      "source": [
        "my_dog.setdefault('breed', 'Husky') #equals to if up!"
      ],
      "metadata": {
        "colab": {
          "base_uri": "https://localhost:8080/",
          "height": 35
        },
        "id": "s5bslW0VpoGt",
        "outputId": "17106f1f-62cf-401a-aa8e-adc51fcd23e5"
      },
      "execution_count": null,
      "outputs": [
        {
          "output_type": "execute_result",
          "data": {
            "text/plain": [
              "'Husky'"
            ],
            "application/vnd.google.colaboratory.intrinsic+json": {
              "type": "string"
            }
          },
          "metadata": {},
          "execution_count": 16
        }
      ]
    },
    {
      "cell_type": "code",
      "source": [
        "def simple_func(input):\n",
        "  # Do some calculation on input:\n",
        "  result = input ** 2\n",
        "  return result\n",
        "\n",
        "#var_1 = simple_func(1)\n",
        "#var_2 = simple_func(2)\n",
        "#var_3 = simple_func(3)\n",
        "#var_4 = simple_func(4)\n",
        "\n",
        "# for i in range(10):\n",
        "#    var_i = simple_func(i) #Does not work!\n",
        "\n",
        "var_dict = {}\n",
        "for i in range (10):\n",
        "  var_dict[f\"var_{i}\"] = simple_func(i)\n",
        "print(var_dict)"
      ],
      "metadata": {
        "colab": {
          "base_uri": "https://localhost:8080/"
        },
        "id": "5Eo6C_44p6bQ",
        "outputId": "f32cd00c-5e25-488e-8e32-64d5a00f17df"
      },
      "execution_count": null,
      "outputs": [
        {
          "output_type": "stream",
          "name": "stdout",
          "text": [
            "{'var_0': 0, 'var_1': 1, 'var_2': 4, 'var_3': 9, 'var_4': 16, 'var_5': 25, 'var_6': 36, 'var_7': 49, 'var_8': 64, 'var_9': 81}\n"
          ]
        }
      ]
    },
    {
      "cell_type": "code",
      "source": [
        "# counting the characters in a Text:\n",
        "\n",
        "message = 'Two days later, on May 13, the agency stunned medical and public health experts by\\\n",
        "           reversing course, saying that fully vaccinated people can shed their masks in nearly all indoor\\\n",
        "           and outdoor settings, about 35 percent of the US population\\\n",
        "           was fully vaccinated. The percentage is currently up to 37 percent.'\n",
        "\n",
        "# {'agency': 1, 'vaccinated': 2, 'days': 1, ....}"
      ],
      "metadata": {
        "id": "JLG6bRDWr7ee"
      },
      "execution_count": null,
      "outputs": []
    },
    {
      "cell_type": "code",
      "source": [
        "counts ={}\n",
        "for word in message.split():\n",
        "    counts.setdefault(word, 0)\n",
        "    counts[word] = counts[word] + 1\n",
        "  \n",
        "counts"
      ],
      "metadata": {
        "id": "DeGZdHjOhr8e"
      },
      "execution_count": null,
      "outputs": []
    },
    {
      "cell_type": "code",
      "source": [
        "# Nested Dictionaries\n",
        "all_dogs = {'Nova':{'color':'white', 'age': 4},\n",
        "            'Pixel':{'color': 'gray', 'breed': 'Kyi-Leo', 'age': 2},\n",
        "            'Rex': {'age': 3}}"
      ],
      "metadata": {
        "id": "koPUW6Y0iqjC"
      },
      "execution_count": null,
      "outputs": []
    },
    {
      "cell_type": "code",
      "source": [
        "all_dogs['Pixel']['breed']"
      ],
      "metadata": {
        "colab": {
          "base_uri": "https://localhost:8080/",
          "height": 35
        },
        "id": "hGrfPX22j2ky",
        "outputId": "b4cbd375-4fb4-4499-f561-c4eb860e20d5"
      },
      "execution_count": null,
      "outputs": [
        {
          "output_type": "execute_result",
          "data": {
            "text/plain": [
              "'Kyi-Leo'"
            ],
            "application/vnd.google.colaboratory.intrinsic+json": {
              "type": "string"
            }
          },
          "metadata": {},
          "execution_count": 22
        }
      ]
    },
    {
      "cell_type": "code",
      "source": [
        "all_dogs['Pixel'].items()"
      ],
      "metadata": {
        "colab": {
          "base_uri": "https://localhost:8080/"
        },
        "id": "BLd5pbS0j--H",
        "outputId": "1d4036d1-0db4-4629-fde9-597b86b9abd4"
      },
      "execution_count": null,
      "outputs": [
        {
          "output_type": "execute_result",
          "data": {
            "text/plain": [
              "dict_items([('color', 'gray'), ('breed', 'Kyi-Leo'), ('age', 2)])"
            ]
          },
          "metadata": {},
          "execution_count": 23
        }
      ]
    },
    {
      "cell_type": "code",
      "source": [
        "names = ['Nova', 'Pixel', 'Rex']\n",
        "colors = ['white', 'gray', None]\n",
        "ages = [4, 2, 3]\n",
        "breeds = [None, 'Kyi-Leo', None]"
      ],
      "metadata": {
        "id": "Lcowo5cJkLr-"
      },
      "execution_count": null,
      "outputs": []
    },
    {
      "cell_type": "code",
      "source": [
        "# Converting list to dictionaries!\n",
        "all_dogs = {}\n",
        "\n",
        "for ind, name in enumerate(names):\n",
        "    all_dogs[name] = {}\n",
        "    if colors[ind] is not None:\n",
        "      all_dogs[name]['color'] = colors[ind]\n",
        "    if ages[ind] is not None:\n",
        "      all_dogs[name]['age'] = ages[ind]\n",
        "    if breeds[ind] is not None:\n",
        "      all_dogs[name]['breed'] = breeds[ind]"
      ],
      "metadata": {
        "id": "8fZthqwwku_J"
      },
      "execution_count": null,
      "outputs": []
    },
    {
      "cell_type": "code",
      "source": [
        "all_dogs"
      ],
      "metadata": {
        "id": "WRlVv3YKldbk"
      },
      "execution_count": null,
      "outputs": []
    },
    {
      "cell_type": "code",
      "source": [
        "fruits = ['lemon', 'pear', 'watermelon', 'tomato']\n",
        "print(fruits[0], fruits[1], fruits[2], fruits[3]) # No drawing card!\n",
        "print(*fruits) #The best! unpacking operator"
      ],
      "metadata": {
        "colab": {
          "base_uri": "https://localhost:8080/"
        },
        "id": "-7SEOa85mcie",
        "outputId": "46604ed2-79e6-4749-af08-7ddc7bb6f207"
      },
      "execution_count": null,
      "outputs": [
        {
          "output_type": "stream",
          "name": "stdout",
          "text": [
            "lemon pear watermelon tomato\n",
            "lemon pear watermelon tomato\n"
          ]
        }
      ]
    },
    {
      "cell_type": "code",
      "source": [
        "numbers =[2, 1, 3, 4, 7]\n",
        "more_numbers =[11, 8]\n",
        "new_numbers = [11, *numbers, 8] #Unpacking operator(*)\n",
        "new_numbers"
      ],
      "metadata": {
        "colab": {
          "base_uri": "https://localhost:8080/"
        },
        "id": "b50e5j0mnE_z",
        "outputId": "e1fe77f7-31d9-481c-d762-4e704e056226"
      },
      "execution_count": null,
      "outputs": [
        {
          "output_type": "execute_result",
          "data": {
            "text/plain": [
              "[11, 2, 1, 3, 4, 7, 8]"
            ]
          },
          "metadata": {},
          "execution_count": 33
        }
      ]
    },
    {
      "cell_type": "code",
      "source": [
        "my_first_dict = {\"A\":1, \"B\": 2}\n",
        "my_secound_dict ={\"C\": 3, \"D\": 4}\n"
      ],
      "metadata": {
        "id": "HStYUR4EoMI5"
      },
      "execution_count": null,
      "outputs": []
    },
    {
      "cell_type": "code",
      "source": [
        "my_merge_dict = {**my_first_dict, **my_secound_dict}\n",
        "my_merge_dict"
      ],
      "metadata": {
        "colab": {
          "base_uri": "https://localhost:8080/"
        },
        "id": "Oiu7Q3D3pVQS",
        "outputId": "47200aaf-5745-4bde-e309-62ef9cafc7c0"
      },
      "execution_count": null,
      "outputs": [
        {
          "output_type": "execute_result",
          "data": {
            "text/plain": [
              "{'A': 1, 'B': 2, 'C': 3, 'D': 4}"
            ]
          },
          "metadata": {},
          "execution_count": 35
        }
      ]
    },
    {
      "cell_type": "code",
      "source": [
        "def make_pizza(size, *toppings_list):\n",
        "  print(f\"{size}-inch Pizza was ordered with:\")\n",
        "  if toppings_list:\n",
        "    for topping in toppings_list:\n",
        "      print(f\"-{topping}\")\n",
        "  else:\n",
        "    print('No toppings')\n",
        "\n",
        "make_pizza(8, 'beef', 'onion', 'mushroom', 'tomato')"
      ],
      "metadata": {
        "colab": {
          "base_uri": "https://localhost:8080/"
        },
        "id": "iyeqXVU-pjT0",
        "outputId": "c1dcc2f3-39dd-4473-8ee4-9eb9e9c7c12e"
      },
      "execution_count": null,
      "outputs": [
        {
          "output_type": "stream",
          "name": "stdout",
          "text": [
            "8-inch Pizza was ordered with:\n",
            "-beef\n",
            "-onion\n",
            "-mushroom\n",
            "-tomato\n"
          ]
        }
      ]
    },
    {
      "cell_type": "code",
      "source": [
        "make_pizza(9)"
      ],
      "metadata": {
        "colab": {
          "base_uri": "https://localhost:8080/"
        },
        "id": "hBiBhX_YrD8v",
        "outputId": "d0a2ba6e-9f2b-46ea-a2ad-f886f324f89c"
      },
      "execution_count": null,
      "outputs": [
        {
          "output_type": "stream",
          "name": "stdout",
          "text": [
            "9-inch Pizza was ordered with:\n",
            "No toppings\n"
          ]
        }
      ]
    },
    {
      "cell_type": "code",
      "source": [],
      "metadata": {
        "id": "WtBFS1x3rOz8"
      },
      "execution_count": null,
      "outputs": []
    }
  ]
}